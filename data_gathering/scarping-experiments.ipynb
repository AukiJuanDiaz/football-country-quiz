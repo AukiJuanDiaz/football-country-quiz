{
 "cells": [
  {
   "cell_type": "code",
   "execution_count": 1,
   "metadata": {},
   "outputs": [],
   "source": [
    "import requests\n",
    "from bs4 import BeautifulSoup\n"
   ]
  },
  {
   "cell_type": "code",
   "execution_count": 2,
   "metadata": {},
   "outputs": [
    {
     "data": {
      "text/plain": [
       "<Response [200]>"
      ]
     },
     "execution_count": 2,
     "metadata": {},
     "output_type": "execute_result"
    }
   ],
   "source": [
    "# URL of the match report\n",
    "url = 'https://www.transfermarkt.de/spielbericht/index/spielbericht/3812391'\n",
    "\n",
    "# Define headers to make the request look more human\n",
    "headers = {\n",
    "    'User-Agent': 'Mozilla/5.0 (Windows NT 10.0; Win64; x64) AppleWebKit/537.36 (KHTML, like Gecko) Chrome/58.0.3029.110 Safari/537.36'\n",
    "}\n",
    "\n",
    "# Send a GET request to the URL with the headers and store the response in a variable\n",
    "response = requests.get(url, headers=headers)\n",
    "response"
   ]
  },
  {
   "cell_type": "code",
   "execution_count": 3,
   "metadata": {},
   "outputs": [],
   "source": [
    "# Parse the HTML content of the response using Beautiful Soup\n",
    "soup = BeautifulSoup(response.content, 'html.parser')"
   ]
  },
  {
   "cell_type": "code",
   "execution_count": 4,
   "metadata": {},
   "outputs": [
    {
     "data": {
      "text/plain": [
       "{'home_team': {'team_link': '/fc-liverpool/startseite/verein/31/saison_id/2021',\n",
       "  'team_name': 'FC Liverpool'},\n",
       " 'away_team': {'team_link': '/fc-liverpool/startseite/verein/31/saison_id/2021',\n",
       "  'team_name': 'FC Liverpool'}}"
      ]
     },
     "execution_count": 4,
     "metadata": {},
     "output_type": "execute_result"
    }
   ],
   "source": [
    "\n",
    "# Find all <a> elements with class=\"sb-vereinslink\" \n",
    "teams = soup.find_all('a', {'class': 'sb-vereinslink'})\n",
    "\n",
    "teams_dict = {}\n",
    "\n",
    "home_team_link = teams[0]['href']\n",
    "home_team_name = teams[0].get_text()\n",
    "home_team = {'team_link': home_team_link, 'team_name': home_team_name}\n",
    "\n",
    "away_team_link = teams[0]['href']\n",
    "away_team_name = teams[0].get_text()\n",
    "away_team = {'team_link': away_team_link, 'team_name': away_team_name}\n",
    "\n",
    "teams_dict = {'home_team': home_team, 'away_team': away_team}\n",
    "teams_dict"
   ]
  },
  {
   "cell_type": "markdown",
   "metadata": {},
   "source": []
  },
  {
   "cell_type": "code",
   "execution_count": 5,
   "metadata": {},
   "outputs": [],
   "source": [
    "starting_lineups = soup.find_all('div', {'class': 'large-7 columns small-12 aufstellung-vereinsseite'})\n",
    "home_starting_lineup = starting_lineups[0]\n",
    "away_starting_lineup = starting_lineups[1]\n",
    "\n",
    "home_players = []\n",
    "for player in home_starting_lineup.find_all('div', {'class': 'aufstellung-spieler-container'}):\n",
    "    profile_link = player.find('a')['href']\n",
    "    name = player.find('a').get_text()\n",
    "    top = player['style'].split(';')[0].split(':')[1].strip()\n",
    "    left = player['style'].split(';')[1].split(':')[1].strip()\n",
    "    home_players.append(({'name': name, 'profile_link': profile_link, 'top': top, 'left': left}))\n",
    "\n",
    "teams_dict['home_team']['starting_lineup'] = home_players\n",
    "\n",
    "away_players = []\n",
    "for player in away_starting_lineup.find_all('div', {'class': 'aufstellung-spieler-container'}):\n",
    "    profile_link = player.find('a')['href']\n",
    "    name = player.find('a').get_text()\n",
    "    top = player['style'].split(';')[0].split(':')[1].strip()\n",
    "    left = player['style'].split(';')[1].split(':')[1].strip()\n",
    "    away_players.append(({'name': name, 'profile_link': profile_link, 'top': top, 'left': left}))\n",
    "\n",
    "teams_dict['away_team']['starting_lineup'] = away_players\n"
   ]
  },
  {
   "cell_type": "code",
   "execution_count": 9,
   "metadata": {},
   "outputs": [],
   "source": [
    "def findNationalityFromProfile(profile_link):\n",
    "    # URL of the match report\n",
    "    url_base = 'https://www.transfermarkt.de'\n",
    "    url = url_base + profile_link\n",
    "\n",
    "    # Define headers to make the request look more human\n",
    "    headers = {\n",
    "        'User-Agent': 'Mozilla/5.0 (Windows NT 10.0; Win64; x64) AppleWebKit/537.36 (KHTML, like Gecko) Chrome/58.0.3029.110 Safari/537.36'\n",
    "    }\n",
    "\n",
    "    # Send a GET request to the URL with the headers and store the response in a variable\n",
    "    response = requests.get(url, headers=headers)\n",
    "    soup = BeautifulSoup(response.content, 'html.parser')\n",
    "    \n",
    "    nationalitaet = soup.find('span', text='Nationalität:')\n",
    "\n",
    "    if nationalitaet:\n",
    "        nationality = nationalitaet.find_next_sibling('span').text.split()[0]\n",
    "        print(nationality)\n",
    "    else:\n",
    "        nationality = \"Unknown\"\n",
    "        print(\"ERROR: Nationality Unknown\")\n",
    "    return nationality"
   ]
  },
  {
   "cell_type": "code",
   "execution_count": 10,
   "metadata": {},
   "outputs": [
    {
     "name": "stdout",
     "output_type": "stream",
     "text": [
      "Brasilien\n",
      "Frankreich\n",
      "Niederlande\n",
      "Schottland\n",
      "England\n",
      "Brasilien\n",
      "England\n",
      "Spanien\n",
      "Kolumbien\n",
      "Senegal\n",
      "Ägypten\n"
     ]
    }
   ],
   "source": [
    "for player in teams_dict['home_team']['starting_lineup']:\n",
    "    nationality = findNationalityFromProfile(player['profile_link'])\n",
    "    player['nationality'] = nationality\n"
   ]
  },
  {
   "cell_type": "code",
   "execution_count": 12,
   "metadata": {},
   "outputs": [
    {
     "name": "stdout",
     "output_type": "stream",
     "text": [
      "Belgien\n",
      "Österreich\n",
      "Brasilien\n",
      "Frankreich\n",
      "Spanien\n",
      "Brasilien\n",
      "Deutschland\n",
      "Kroatien\n",
      "Uruguay\n",
      "Brasilien\n",
      "Frankreich\n"
     ]
    },
    {
     "data": {
      "text/plain": [
       "{'team_link': '/fc-liverpool/startseite/verein/31/saison_id/2021',\n",
       " 'team_name': 'FC Liverpool',\n",
       " 'starting_lineup': [OrderedDict([('name', 'Courtois'),\n",
       "               ('profile_link', '/thibaut-courtois/profil/spieler/108390'),\n",
       "               ('top', '80%'),\n",
       "               ('left', '40%'),\n",
       "               ('nationality', 'Belgien')]),\n",
       "  OrderedDict([('name', 'Alaba'),\n",
       "               ('profile_link', '/david-alaba/profil/spieler/59016'),\n",
       "               ('top', '63%'),\n",
       "               ('left', '28%'),\n",
       "               ('nationality', 'Österreich')]),\n",
       "  OrderedDict([('name', 'Militão'),\n",
       "               ('profile_link', '/eder-militao/profil/spieler/401530'),\n",
       "               ('top', '63%'),\n",
       "               ('left', '52.5%'),\n",
       "               ('nationality', 'Brasilien')]),\n",
       "  OrderedDict([('name', 'Mendy'),\n",
       "               ('profile_link', '/ferland-mendy/profil/spieler/291417'),\n",
       "               ('top', '61%'),\n",
       "               ('left', '7.5%'),\n",
       "               ('nationality', 'Frankreich')]),\n",
       "  OrderedDict([('name', 'Carvajal'),\n",
       "               ('profile_link', '/daniel-carvajal/profil/spieler/138927'),\n",
       "               ('top', '61%'),\n",
       "               ('left', '73%'),\n",
       "               ('nationality', 'Spanien')]),\n",
       "  OrderedDict([('name', 'Casemiro'),\n",
       "               ('profile_link', '/casemiro/profil/spieler/16306'),\n",
       "               ('top', '39%'),\n",
       "               ('left', '40%'),\n",
       "               ('nationality', 'Brasilien')]),\n",
       "  OrderedDict([('name', 'Kroos'),\n",
       "               ('profile_link', '/toni-kroos/profil/spieler/31909'),\n",
       "               ('top', '28%'),\n",
       "               ('left', '53%'),\n",
       "               ('nationality', 'Deutschland')]),\n",
       "  OrderedDict([('name', 'Modric'),\n",
       "               ('profile_link', '/luka-modric/profil/spieler/27992'),\n",
       "               ('top', '28%'),\n",
       "               ('left', '27%'),\n",
       "               ('nationality', 'Kroatien')]),\n",
       "  OrderedDict([('name', 'Valverde'),\n",
       "               ('profile_link', '/federico-valverde/profil/spieler/369081'),\n",
       "               ('top', '10%'),\n",
       "               ('left', '65%'),\n",
       "               ('nationality', 'Uruguay')]),\n",
       "  OrderedDict([('name', 'Vinicius J.'),\n",
       "               ('profile_link', '/vinicius-junior/profil/spieler/371998'),\n",
       "               ('top', '10%'),\n",
       "               ('left', '15%'),\n",
       "               ('nationality', 'Brasilien')]),\n",
       "  OrderedDict([('name', 'Benzema'),\n",
       "               ('profile_link', '/karim-benzema/profil/spieler/18922'),\n",
       "               ('top', '3%'),\n",
       "               ('left', '40%'),\n",
       "               ('nationality', 'Frankreich')])]}"
      ]
     },
     "execution_count": 12,
     "metadata": {},
     "output_type": "execute_result"
    }
   ],
   "source": [
    "for player in teams_dict['away_team']['starting_lineup']:\n",
    "    nationality = findNationalityFromProfile(player['profile_link'])\n",
    "    player['nationality'] = nationality\n",
    "\n",
    "teams_dict['away_team']"
   ]
  },
  {
   "cell_type": "code",
   "execution_count": 13,
   "metadata": {},
   "outputs": [
    {
     "data": {
      "text/plain": [
       "['Belgien',\n",
       " 'Österreich',\n",
       " 'Brasilien',\n",
       " 'Frankreich',\n",
       " 'Spanien',\n",
       " 'Brasilien',\n",
       " 'Deutschland',\n",
       " 'Kroatien',\n",
       " 'Uruguay',\n",
       " 'Brasilien',\n",
       " 'Frankreich']"
      ]
     },
     "execution_count": 13,
     "metadata": {},
     "output_type": "execute_result"
    }
   ],
   "source": [
    "nationalities_away = [player['nationality'] for player in teams_dict['away_team']['starting_lineup']]\n",
    "nationalities_away"
   ]
  },
  {
   "cell_type": "code",
   "execution_count": 14,
   "metadata": {},
   "outputs": [
    {
     "data": {
      "text/plain": [
       "['Brasilien',\n",
       " 'Frankreich',\n",
       " 'Niederlande',\n",
       " 'Schottland',\n",
       " 'England',\n",
       " 'Brasilien',\n",
       " 'England',\n",
       " 'Spanien',\n",
       " 'Kolumbien',\n",
       " 'Senegal',\n",
       " 'Ägypten']"
      ]
     },
     "execution_count": 14,
     "metadata": {},
     "output_type": "execute_result"
    }
   ],
   "source": [
    "nationalities_home = [player['nationality'] for player in teams_dict['home_team']['starting_lineup']]\n",
    "nationalities_home"
   ]
  },
  {
   "cell_type": "code",
   "execution_count": 15,
   "metadata": {},
   "outputs": [],
   "source": [
    "top_home = [player['top'] for player in teams_dict['home_team']['starting_lineup']]\n",
    "left_home = [player['left'] for player in teams_dict['home_team']['starting_lineup']]"
   ]
  },
  {
   "cell_type": "code",
   "execution_count": 16,
   "metadata": {},
   "outputs": [
    {
     "data": {
      "text/plain": [
       "['40%',\n",
       " '28%',\n",
       " '52.5%',\n",
       " '7.5%',\n",
       " '73%',\n",
       " '40%',\n",
       " '53%',\n",
       " '27%',\n",
       " '15%',\n",
       " '40%',\n",
       " '65%']"
      ]
     },
     "execution_count": 16,
     "metadata": {},
     "output_type": "execute_result"
    }
   ],
   "source": [
    "left_home"
   ]
  },
  {
   "cell_type": "code",
   "execution_count": 17,
   "metadata": {},
   "outputs": [
    {
     "data": {
      "text/plain": [
       "['80%', '63%', '63%', '61%', '61%', '39%', '28%', '28%', '10%', '3%', '10%']"
      ]
     },
     "execution_count": 17,
     "metadata": {},
     "output_type": "execute_result"
    }
   ],
   "source": [
    "top_home"
   ]
  },
  {
   "cell_type": "code",
   "execution_count": 30,
   "metadata": {},
   "outputs": [
    {
     "name": "stdout",
     "output_type": "stream",
     "text": [
      "[('80%', '40%'), ('63%', '28%'), ('63%', '52.5%'), ('61%', '7.5%'), ('61%', '73%'), ('39%', '40%'), ('28%', '53%'), ('28%', '27%'), ('10%', '65%'), ('10%', '15%'), ('3%', '40%')]\n"
     ]
    }
   ],
   "source": [
    "top_away = [player['top'] for player in teams_dict['away_team']['starting_lineup']]\n",
    "left_away = [player['left'] for player in teams_dict['away_team']['starting_lineup']]\n",
    "pos_percentages = list(zip(top_away, left_away))\n",
    "print(pos_percentages)"
   ]
  },
  {
   "cell_type": "code",
   "execution_count": 31,
   "metadata": {},
   "outputs": [],
   "source": [
    "scaled_list = []\n",
    "for tup in pos_percentages:\n",
    "    x = float(tup[0].replace(\"%\", \"\")) / 100.0\n",
    "    y = float(tup[1].replace(\"%\", \"\")) / 100.0\n",
    "    scaled_x = x / 0.8\n",
    "    scaled_y = y / 0.8\n",
    "    scaled_list.append((scaled_x, scaled_y))"
   ]
  },
  {
   "cell_type": "code",
   "execution_count": 32,
   "metadata": {},
   "outputs": [
    {
     "data": {
      "text/plain": [
       "[(1.0, 0.5),\n",
       " (0.7875, 0.35000000000000003),\n",
       " (0.7875, 0.65625),\n",
       " (0.7625, 0.09374999999999999),\n",
       " (0.7625, 0.9125),\n",
       " (0.4875, 0.5),\n",
       " (0.35000000000000003, 0.6625),\n",
       " (0.35000000000000003, 0.3375),\n",
       " (0.125, 0.8125),\n",
       " (0.125, 0.18749999999999997),\n",
       " (0.0375, 0.5)]"
      ]
     },
     "execution_count": 32,
     "metadata": {},
     "output_type": "execute_result"
    }
   ],
   "source": [
    "scaled_list"
   ]
  },
  {
   "cell_type": "code",
   "execution_count": 33,
   "metadata": {},
   "outputs": [
    {
     "data": {
      "text/plain": [
       "[(1000, 2850),\n",
       " (760, 2595),\n",
       " (1250, 2595),\n",
       " (350, 2565),\n",
       " (1660, 2565),\n",
       " (1000, 2235),\n",
       " (1260, 2070),\n",
       " (740, 2070),\n",
       " (1500, 1800),\n",
       " (499, 1800),\n",
       " (1000, 1695)]"
      ]
     },
     "execution_count": 33,
     "metadata": {},
     "output_type": "execute_result"
    }
   ],
   "source": [
    "def map_clean_percentages_to_pixels(percentages):\n",
    "    top_start, top_end = 1650, 2850\n",
    "    left_start, left_end = 200, 1800\n",
    "    mapped_positions = []\n",
    "    for percentage in percentages:\n",
    "        top = int(top_start + (top_end - top_start) * float(percentage[0]))\n",
    "        left = int(left_start + (left_end - left_start) * float(percentage[1]))\n",
    "        mapped_positions.append((left, top))\n",
    "    return mapped_positions\n",
    "\n",
    "last_test = map_clean_percentages_to_pixels(scaled_list)\n",
    "last_test"
   ]
  },
  {
   "cell_type": "code",
   "execution_count": null,
   "metadata": {},
   "outputs": [],
   "source": []
  },
  {
   "cell_type": "code",
   "execution_count": 34,
   "metadata": {},
   "outputs": [
    {
     "data": {
      "text/plain": [
       "[OrderedDict([('name', 'Courtois'),\n",
       "              ('profile_link', '/thibaut-courtois/profil/spieler/108390'),\n",
       "              ('top', '80%'),\n",
       "              ('left', '40%'),\n",
       "              ('nationality', 'Belgien')]),\n",
       " OrderedDict([('name', 'Alaba'),\n",
       "              ('profile_link', '/david-alaba/profil/spieler/59016'),\n",
       "              ('top', '63%'),\n",
       "              ('left', '28%'),\n",
       "              ('nationality', 'Österreich')]),\n",
       " OrderedDict([('name', 'Militão'),\n",
       "              ('profile_link', '/eder-militao/profil/spieler/401530'),\n",
       "              ('top', '63%'),\n",
       "              ('left', '52.5%'),\n",
       "              ('nationality', 'Brasilien')]),\n",
       " OrderedDict([('name', 'Mendy'),\n",
       "              ('profile_link', '/ferland-mendy/profil/spieler/291417'),\n",
       "              ('top', '61%'),\n",
       "              ('left', '7.5%'),\n",
       "              ('nationality', 'Frankreich')]),\n",
       " OrderedDict([('name', 'Carvajal'),\n",
       "              ('profile_link', '/daniel-carvajal/profil/spieler/138927'),\n",
       "              ('top', '61%'),\n",
       "              ('left', '73%'),\n",
       "              ('nationality', 'Spanien')]),\n",
       " OrderedDict([('name', 'Casemiro'),\n",
       "              ('profile_link', '/casemiro/profil/spieler/16306'),\n",
       "              ('top', '39%'),\n",
       "              ('left', '40%'),\n",
       "              ('nationality', 'Brasilien')]),\n",
       " OrderedDict([('name', 'Kroos'),\n",
       "              ('profile_link', '/toni-kroos/profil/spieler/31909'),\n",
       "              ('top', '28%'),\n",
       "              ('left', '53%'),\n",
       "              ('nationality', 'Deutschland')]),\n",
       " OrderedDict([('name', 'Modric'),\n",
       "              ('profile_link', '/luka-modric/profil/spieler/27992'),\n",
       "              ('top', '28%'),\n",
       "              ('left', '27%'),\n",
       "              ('nationality', 'Kroatien')]),\n",
       " OrderedDict([('name', 'Valverde'),\n",
       "              ('profile_link', '/federico-valverde/profil/spieler/369081'),\n",
       "              ('top', '10%'),\n",
       "              ('left', '65%'),\n",
       "              ('nationality', 'Uruguay')]),\n",
       " OrderedDict([('name', 'Vinicius J.'),\n",
       "              ('profile_link', '/vinicius-junior/profil/spieler/371998'),\n",
       "              ('top', '10%'),\n",
       "              ('left', '15%'),\n",
       "              ('nationality', 'Brasilien')]),\n",
       " OrderedDict([('name', 'Benzema'),\n",
       "              ('profile_link', '/karim-benzema/profil/spieler/18922'),\n",
       "              ('top', '3%'),\n",
       "              ('left', '40%'),\n",
       "              ('nationality', 'Frankreich')])]"
      ]
     },
     "execution_count": 34,
     "metadata": {},
     "output_type": "execute_result"
    }
   ],
   "source": [
    "teams_dict['away_team']['starting_lineup']"
   ]
  },
  {
   "cell_type": "code",
   "execution_count": 35,
   "metadata": {},
   "outputs": [],
   "source": [
    "from PIL import Image\n",
    "\n",
    "folder = \"images/countries\"\n",
    "background = Image.open(\"images/background_2.png\").convert(\"RGBA\")\n",
    "\n",
    "country_list = [\"Frankreich\", \"Brasilien\", \"Nepal\", \"Frankreich\", \"Paraguay\",\"Deutschland\", \"Österreich\", \"Brasilien\", \"Spanien\", \"Frankreich\", \"Brasilien\"]\n",
    "country_list = nationalities_home\n",
    "foregrounds = []\n",
    "\n",
    "for country in country_list:\n",
    "    foreground = folder + '/' + country + \".png\"\n",
    "    foregrounds.append(foreground)\n",
    "\n",
    "\n",
    "positions_4_3_3_off = [      (1000, 150), \n",
    "                        (750, 450), (1250, 450),\n",
    "            (300, 550),                         (1700, 550),\n",
    "                             (1000,850),\n",
    "                (500,1000),                 (1500,1000),\n",
    "            (300,1275),                         (1700,1275),\n",
    "                             (1000,1350) \n",
    "                    ]\n",
    "\n",
    "\n",
    "for i in range(len(foregrounds)):\n",
    "    foreground = Image.open(foregrounds[i]).convert(\"RGBA\")\n",
    "    width, height = foreground.size\n",
    "    positions = positions_4_3_3_off\n",
    "    position = positions[i]\n",
    "    position = (position[0] - width // 2, position[1] - height // 2)\n",
    "    background.alpha_composite(foreground, position)\n",
    "\n",
    "\n",
    "positions_away = last_test\n",
    "\n",
    "country_list = [\"Frankreich\", \"Brasilien\", \"Nepal\", \"Frankreich\", \"Paraguay\",\"Deutschland\", \"Österreich\", \"Brasilien\", \"Spanien\", \"Frankreich\", \"Brasilien\"]\n",
    "country_list = nationalities_away\n",
    "foregrounds = []\n",
    "\n",
    "for country in country_list:\n",
    "    foreground = folder + '/' + country + \".png\"\n",
    "    foregrounds.append(foreground)\n",
    "\n",
    "for i in range(len(foregrounds)):\n",
    "    foreground = Image.open(foregrounds[i]).convert(\"RGBA\")\n",
    "    width, height = foreground.size\n",
    "    positions = positions_away\n",
    "    position = positions[i]\n",
    "    position = (position[0] - width // 2, position[1] - height // 2)\n",
    "    background.alpha_composite(foreground, position)\n",
    "\n",
    "\n",
    "background.save(\"output.png\")"
   ]
  }
 ],
 "metadata": {
  "kernelspec": {
   "display_name": "base",
   "language": "python",
   "name": "python3"
  },
  "language_info": {
   "codemirror_mode": {
    "name": "ipython",
    "version": 3
   },
   "file_extension": ".py",
   "mimetype": "text/x-python",
   "name": "python",
   "nbconvert_exporter": "python",
   "pygments_lexer": "ipython3",
   "version": "3.10.9"
  },
  "orig_nbformat": 4
 },
 "nbformat": 4,
 "nbformat_minor": 2
}
