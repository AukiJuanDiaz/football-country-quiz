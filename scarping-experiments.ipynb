{
 "cells": [
  {
   "cell_type": "code",
   "execution_count": 109,
   "metadata": {},
   "outputs": [],
   "source": [
    "import requests\n",
    "from bs4 import BeautifulSoup\n",
    "from collections import OrderedDict"
   ]
  },
  {
   "cell_type": "code",
   "execution_count": 105,
   "metadata": {},
   "outputs": [
    {
     "data": {
      "text/plain": [
       "<Response [200]>"
      ]
     },
     "execution_count": 105,
     "metadata": {},
     "output_type": "execute_result"
    }
   ],
   "source": [
    "# URL of the match report\n",
    "url = 'https://www.transfermarkt.de/spielbericht/index/spielbericht/3812391'\n",
    "\n",
    "# Define headers to make the request look more human\n",
    "headers = {\n",
    "    'User-Agent': 'Mozilla/5.0 (Windows NT 10.0; Win64; x64) AppleWebKit/537.36 (KHTML, like Gecko) Chrome/58.0.3029.110 Safari/537.36'\n",
    "}\n",
    "\n",
    "# Send a GET request to the URL with the headers and store the response in a variable\n",
    "response = requests.get(url, headers=headers)\n",
    "response"
   ]
  },
  {
   "cell_type": "code",
   "execution_count": 106,
   "metadata": {},
   "outputs": [],
   "source": [
    "# Parse the HTML content of the response using Beautiful Soup\n",
    "soup = BeautifulSoup(response.content, 'html.parser')"
   ]
  },
  {
   "cell_type": "code",
   "execution_count": 36,
   "metadata": {},
   "outputs": [
    {
     "data": {
      "text/plain": [
       "{'home_team': {'team_link': '/fc-liverpool/startseite/verein/31/saison_id/2021',\n",
       "  'team_name': 'FC Liverpool'},\n",
       " 'away_team': {'team_link': '/fc-liverpool/startseite/verein/31/saison_id/2021',\n",
       "  'team_name': 'FC Liverpool'}}"
      ]
     },
     "execution_count": 36,
     "metadata": {},
     "output_type": "execute_result"
    }
   ],
   "source": [
    "\n",
    "# Find all <a> elements with class=\"sb-vereinslink\" \n",
    "teams = soup.find_all('a', {'class': 'sb-vereinslink'})\n",
    "\n",
    "teams_dict = {}\n",
    "\n",
    "home_team_link = teams[0]['href']\n",
    "home_team_name = teams[0].get_text()\n",
    "home_team = {'team_link': home_team_link, 'team_name': home_team_name}\n",
    "\n",
    "away_team_link = teams[0]['href']\n",
    "away_team_name = teams[0].get_text()\n",
    "away_team = {'team_link': away_team_link, 'team_name': away_team_name}\n",
    "\n",
    "teams_dict = {'home_team': home_team, 'away_team': away_team}\n",
    "teams_dict"
   ]
  },
  {
   "cell_type": "markdown",
   "metadata": {},
   "source": []
  },
  {
   "cell_type": "code",
   "execution_count": 40,
   "metadata": {},
   "outputs": [],
   "source": [
    "\n"
   ]
  },
  {
   "cell_type": "code",
   "execution_count": 117,
   "metadata": {},
   "outputs": [],
   "source": [
    "starting_lineups = soup.find_all('div', {'class': 'large-7 columns small-12 aufstellung-vereinsseite'})\n",
    "home_starting_lineup = starting_lineups[0]\n",
    "away_starting_lineup = starting_lineups[1]\n",
    "\n",
    "home_players = []\n",
    "for player in home_starting_lineup.find_all('div', {'class': 'aufstellung-spieler-container'}):\n",
    "    profile_link = player.find('a')['href']\n",
    "    name = player.find('a').get_text()\n",
    "    top = player['style'].split(';')[0].split(':')[1].strip()\n",
    "    left = player['style'].split(';')[1].split(':')[1].strip()\n",
    "    home_players.append({'name': name, 'profile_link': profile_link, 'top': top, 'left': left})\n",
    "\n",
    "teams_dict['home_team']['starting_lineup'] = home_players\n",
    "\n",
    "away_players = []\n",
    "for player in away_starting_lineup.find_all('div', {'class': 'aufstellung-spieler-container'}):\n",
    "    profile_link = player.find('a')['href']\n",
    "    name = player.find('a').get_text()\n",
    "    top = player['style'].split(';')[0].split(':')[1].strip()\n",
    "    left = player['style'].split(';')[1].split(':')[1].strip()\n",
    "    away_players.append({'name': name, 'profile_link': profile_link, 'top': top, 'left': left})\n",
    "\n",
    "teams_dict['away_team']['starting_lineup'] = away_players\n"
   ]
  },
  {
   "cell_type": "code",
   "execution_count": 113,
   "metadata": {},
   "outputs": [
    {
     "data": {
      "text/plain": [
       "[{'name': 'Alisson',\n",
       "  'profile_link': '/alisson/profil/spieler/105470',\n",
       "  'top': '80%',\n",
       "  'left': '40%'},\n",
       " {'name': 'Konaté',\n",
       "  'profile_link': '/ibrahima-konate/profil/spieler/357119',\n",
       "  'top': '63%',\n",
       "  'left': '28%'},\n",
       " {'name': 'van Dijk',\n",
       "  'profile_link': '/virgil-van-dijk/profil/spieler/139208',\n",
       "  'top': '63%',\n",
       "  'left': '52.5%'},\n",
       " {'name': 'Robertson',\n",
       "  'profile_link': '/andrew-robertson/profil/spieler/234803',\n",
       "  'top': '61%',\n",
       "  'left': '7.5%'},\n",
       " {'name': 'Alexander-.',\n",
       "  'profile_link': '/trent-alexander-arnold/profil/spieler/314353',\n",
       "  'top': '61%',\n",
       "  'left': '73%'},\n",
       " {'name': 'Fabinho',\n",
       "  'profile_link': '/fabinho/profil/spieler/225693',\n",
       "  'top': '39%',\n",
       "  'left': '40%'},\n",
       " {'name': 'Henderson',\n",
       "  'profile_link': '/jordan-henderson/profil/spieler/61651',\n",
       "  'top': '28%',\n",
       "  'left': '53%'},\n",
       " {'name': 'Thiago',\n",
       "  'profile_link': '/thiago/profil/spieler/60444',\n",
       "  'top': '28%',\n",
       "  'left': '27%'},\n",
       " {'name': 'Díaz',\n",
       "  'profile_link': '/luis-diaz/profil/spieler/480692',\n",
       "  'top': '10%',\n",
       "  'left': '15%'},\n",
       " {'name': 'Mané',\n",
       "  'profile_link': '/sadio-mane/profil/spieler/200512',\n",
       "  'top': '3%',\n",
       "  'left': '40%'},\n",
       " {'name': 'Mohamed Sa.',\n",
       "  'profile_link': '/mohamed-salah/profil/spieler/148455',\n",
       "  'top': '10%',\n",
       "  'left': '65%'}]"
      ]
     },
     "execution_count": 113,
     "metadata": {},
     "output_type": "execute_result"
    }
   ],
   "source": [
    "starting_lineups = soup.find_all('div', {'class': 'large-7 columns small-12 aufstellung-vereinsseite'})\n",
    "home_starting_lineup = starting_lineups[0]\n",
    "away_starting_lineup = starting_lineups[1]\n",
    "\n",
    "home_players = []\n",
    "for player in home_starting_lineup.find_all('div', {'class': 'aufstellung-spieler-container'}):\n",
    "    profile_link = player.find('a')['href']\n",
    "    name = player.find('a').get_text()\n",
    "    top = player['style'].split(';')[0].split(':')[1].strip()\n",
    "    left = player['style'].split(';')[1].split(':')[1].strip()\n",
    "    home_players.append({'name': name, 'profile_link': profile_link, 'top': top, 'left': left})\n",
    "\n",
    "teams_dict['home_team']['starting_lineup'] = home_players\n",
    "\n",
    "teams_dict['home_team']['starting_lineup']"
   ]
  },
  {
   "cell_type": "code",
   "execution_count": 88,
   "metadata": {},
   "outputs": [
    {
     "data": {
      "text/plain": [
       "[{'name': 'Alisson', 'profile_link': '/alisson/profil/spieler/105470'},\n",
       " {'name': 'Konaté', 'profile_link': '/ibrahima-konate/profil/spieler/357119'},\n",
       " {'name': 'van Dijk',\n",
       "  'profile_link': '/virgil-van-dijk/profil/spieler/139208'},\n",
       " {'name': 'Robertson',\n",
       "  'profile_link': '/andrew-robertson/profil/spieler/234803'},\n",
       " {'name': 'Alexander-.',\n",
       "  'profile_link': '/trent-alexander-arnold/profil/spieler/314353'},\n",
       " {'name': 'Fabinho', 'profile_link': '/fabinho/profil/spieler/225693'},\n",
       " {'name': 'Henderson',\n",
       "  'profile_link': '/jordan-henderson/profil/spieler/61651'},\n",
       " {'name': 'Thiago', 'profile_link': '/thiago/profil/spieler/60444'},\n",
       " {'name': 'Díaz', 'profile_link': '/luis-diaz/profil/spieler/480692'},\n",
       " {'name': 'Mané', 'profile_link': '/sadio-mane/profil/spieler/200512'},\n",
       " {'name': 'Mohamed Sa.',\n",
       "  'profile_link': '/mohamed-salah/profil/spieler/148455'}]"
      ]
     },
     "execution_count": 88,
     "metadata": {},
     "output_type": "execute_result"
    }
   ],
   "source": [
    "teams_dict['home_team']['starting_lineup']"
   ]
  },
  {
   "cell_type": "code",
   "execution_count": 103,
   "metadata": {},
   "outputs": [
    {
     "data": {
      "text/plain": [
       "[{'name': 'Courtois',\n",
       "  'profile_link': '/thibaut-courtois/profil/spieler/108390',\n",
       "  'nationality': 'Belgien'},\n",
       " {'name': 'Alaba',\n",
       "  'profile_link': '/david-alaba/profil/spieler/59016',\n",
       "  'nationality': 'Österreich'},\n",
       " {'name': 'Militão',\n",
       "  'profile_link': '/eder-militao/profil/spieler/401530',\n",
       "  'nationality': 'Brasilien'},\n",
       " {'name': 'Mendy',\n",
       "  'profile_link': '/ferland-mendy/profil/spieler/291417',\n",
       "  'nationality': 'Frankreich'},\n",
       " {'name': 'Carvajal',\n",
       "  'profile_link': '/daniel-carvajal/profil/spieler/138927',\n",
       "  'nationality': 'Spanien'},\n",
       " {'name': 'Casemiro',\n",
       "  'profile_link': '/casemiro/profil/spieler/16306',\n",
       "  'nationality': 'Brasilien'},\n",
       " {'name': 'Kroos',\n",
       "  'profile_link': '/toni-kroos/profil/spieler/31909',\n",
       "  'nationality': 'Deutschland'},\n",
       " {'name': 'Modric',\n",
       "  'profile_link': '/luka-modric/profil/spieler/27992',\n",
       "  'nationality': 'Kroatien'},\n",
       " {'name': 'Valverde',\n",
       "  'profile_link': '/federico-valverde/profil/spieler/369081',\n",
       "  'nationality': 'Uruguay'},\n",
       " {'name': 'Vinicius J.',\n",
       "  'profile_link': '/vinicius-junior/profil/spieler/371998',\n",
       "  'nationality': 'Brasilien'},\n",
       " {'name': 'Benzema',\n",
       "  'profile_link': '/karim-benzema/profil/spieler/18922',\n",
       "  'nationality': 'Frankreich'}]"
      ]
     },
     "execution_count": 103,
     "metadata": {},
     "output_type": "execute_result"
    }
   ],
   "source": [
    "teams_dict['away_team']['starting_lineup']"
   ]
  },
  {
   "cell_type": "code",
   "execution_count": 147,
   "metadata": {},
   "outputs": [],
   "source": [
    "from PIL import Image\n",
    "\n",
    "folder = \"images/countries\"\n",
    "background = Image.open(\"images/background_2.png\").convert(\"RGBA\")\n",
    "\n",
    "country_list = [\"Frankreich\", \"Brasilien\", \"Nepal\", \"Frankreich\", \"Paraguay\",\"Deutschland\", \"Österreich\", \"Brasilien\", \"Spanien\", \"Frankreich\", \"Brasilien\", \"Bolivien\"]\n",
    "country_list = nationalities_home\n",
    "foregrounds = []\n",
    "\n",
    "for country in country_list:\n",
    "    foreground = folder + '/' + country + \".png\"\n",
    "    foregrounds.append(foreground)\n",
    "\n",
    "\n",
    "positions_4_3_3_off = [      (1000, 150), \n",
    "                        (750, 450), (1250, 450),\n",
    "            (300, 550),                         (1700, 550),\n",
    "                             (1000,850),\n",
    "                (500,1000),                 (1500,1000),\n",
    "            (300,1275),                         (1700,1275),\n",
    "                             (1000,1350), \n",
    "                             (1000,1250)]\n",
    "\n",
    "\n",
    "for i in range(len(foregrounds)):\n",
    "    foreground = Image.open(foregrounds[i]).convert(\"RGBA\")\n",
    "    width, height = foreground.size\n",
    "    positions = positions_4_3_3_off\n",
    "    position = positions[i]\n",
    "    position = (position[0] - width // 2, position[1] - height // 2)\n",
    "    background.alpha_composite(foreground, position)\n",
    "\n",
    "\n",
    "positions_away = last_test\n",
    "\n",
    "country_list = [\"Frankreich\", \"Brasilien\", \"Nepal\", \"Frankreich\", \"Paraguay\",\"Deutschland\", \"Österreich\", \"Brasilien\", \"Spanien\", \"Frankreich\", \"Brasilien\"]\n",
    "country_list = nationalities_away\n",
    "foregrounds = []\n",
    "\n",
    "for country in country_list:\n",
    "    foreground = folder + '/' + country + \".png\"\n",
    "    foregrounds.append(foreground)\n",
    "\n",
    "for i in range(len(foregrounds)):\n",
    "    foreground = Image.open(foregrounds[i]).convert(\"RGBA\")\n",
    "    width, height = foreground.size\n",
    "    positions = positions_away\n",
    "    position = positions[i]\n",
    "    position = (position[0] - width // 2, position[1] - height // 2)\n",
    "    background.alpha_composite(foreground, position)\n",
    "\n",
    "\n",
    "background.save(\"output.png\")"
   ]
  },
  {
   "cell_type": "code",
   "execution_count": 90,
   "metadata": {},
   "outputs": [],
   "source": [
    "def findNationalityFromProfile(profile_link):\n",
    "    # URL of the match report\n",
    "    url_base = 'https://www.transfermarkt.de'\n",
    "    url = url_base + profile_link\n",
    "\n",
    "    # Define headers to make the request look more human\n",
    "    headers = {\n",
    "        'User-Agent': 'Mozilla/5.0 (Windows NT 10.0; Win64; x64) AppleWebKit/537.36 (KHTML, like Gecko) Chrome/58.0.3029.110 Safari/537.36'\n",
    "    }\n",
    "\n",
    "    # Send a GET request to the URL with the headers and store the response in a variable\n",
    "    response = requests.get(url, headers=headers)\n",
    "    soup = BeautifulSoup(response.content, 'html.parser')\n",
    "    \n",
    "    nationalitaet = soup.find('span', text='Nationalität:')\n",
    "\n",
    "    if nationalitaet:\n",
    "        nationality = nationalitaet.find_next_sibling('span').text.split()[0]\n",
    "        print(nationality)\n",
    "    else:\n",
    "        nationality = \"Unknown\"\n",
    "        print(\"ERROR: Nationality Unknown\")\n",
    "    return nationality"
   ]
  },
  {
   "cell_type": "code",
   "execution_count": null,
   "metadata": {},
   "outputs": [],
   "source": [
    "for player in teams_dict['home_team']['starting_lineup']:\n",
    "    nationality = findNationalityFromProfile(player['profile_link'])\n",
    "    player['nationality'] = nationality\n"
   ]
  },
  {
   "cell_type": "code",
   "execution_count": null,
   "metadata": {},
   "outputs": [],
   "source": [
    "teams_dict['home_team']['starting_lineup']['nationality']"
   ]
  },
  {
   "cell_type": "code",
   "execution_count": null,
   "metadata": {},
   "outputs": [],
   "source": [
    "for player in teams_dict['away_team']['starting_lineup']:\n",
    "    nationality = findNationalityFromProfile(player['profile_link'])\n",
    "    player['nationality'] = nationality\n",
    "\n",
    "teams_dict['away_team']"
   ]
  },
  {
   "cell_type": "code",
   "execution_count": 127,
   "metadata": {},
   "outputs": [
    {
     "data": {
      "text/plain": [
       "['Belgien',\n",
       " 'Österreich',\n",
       " 'Brasilien',\n",
       " 'Frankreich',\n",
       " 'Spanien',\n",
       " 'Brasilien',\n",
       " 'Deutschland',\n",
       " 'Kroatien',\n",
       " 'Uruguay',\n",
       " 'Brasilien',\n",
       " 'Frankreich']"
      ]
     },
     "execution_count": 127,
     "metadata": {},
     "output_type": "execute_result"
    }
   ],
   "source": [
    "nationalities_away = [player['nationality'] for player in teams_dict['away_team']['starting_lineup']]\n",
    "nationalities_away"
   ]
  },
  {
   "cell_type": "code",
   "execution_count": 101,
   "metadata": {},
   "outputs": [
    {
     "data": {
      "text/plain": [
       "['Brasilien',\n",
       " 'Frankreich',\n",
       " 'Niederlande',\n",
       " 'Schottland',\n",
       " 'England',\n",
       " 'Brasilien',\n",
       " 'England',\n",
       " 'Spanien',\n",
       " 'Kolumbien',\n",
       " 'Senegal',\n",
       " 'Ägypten']"
      ]
     },
     "execution_count": 101,
     "metadata": {},
     "output_type": "execute_result"
    }
   ],
   "source": [
    "nationalities_home = [player['nationality'] for player in teams_dict['home_team']['starting_lineup']]\n",
    "nationalities_home"
   ]
  },
  {
   "cell_type": "code",
   "execution_count": 114,
   "metadata": {},
   "outputs": [],
   "source": [
    "top_home = [player['top'] for player in teams_dict['home_team']['starting_lineup']]\n",
    "left_home = [player['left'] for player in teams_dict['home_team']['starting_lineup']]"
   ]
  },
  {
   "cell_type": "code",
   "execution_count": 115,
   "metadata": {},
   "outputs": [
    {
     "data": {
      "text/plain": [
       "['40%',\n",
       " '28%',\n",
       " '52.5%',\n",
       " '7.5%',\n",
       " '73%',\n",
       " '40%',\n",
       " '53%',\n",
       " '27%',\n",
       " '15%',\n",
       " '40%',\n",
       " '65%']"
      ]
     },
     "execution_count": 115,
     "metadata": {},
     "output_type": "execute_result"
    }
   ],
   "source": [
    "left_home"
   ]
  },
  {
   "cell_type": "code",
   "execution_count": 116,
   "metadata": {},
   "outputs": [
    {
     "data": {
      "text/plain": [
       "['80%', '63%', '63%', '61%', '61%', '39%', '28%', '28%', '10%', '3%', '10%']"
      ]
     },
     "execution_count": 116,
     "metadata": {},
     "output_type": "execute_result"
    }
   ],
   "source": [
    "top_home"
   ]
  },
  {
   "cell_type": "code",
   "execution_count": 122,
   "metadata": {},
   "outputs": [
    {
     "name": "stdout",
     "output_type": "stream",
     "text": [
      "[('80%', '40%'), ('63%', '28%'), ('63%', '52.5%'), ('61%', '7.5%'), ('61%', '73%'), ('39%', '40%'), ('28%', '53%'), ('28%', '27%'), ('10%', '15%'), ('3%', '40%'), ('10%', '65%')]\n"
     ]
    }
   ],
   "source": [
    "top_away = [player['top'] for player in teams_dict['away_team']['starting_lineup']]\n",
    "left_away = [player['left'] for player in teams_dict['away_team']['starting_lineup']]\n",
    "pos_percentages = list(zip(top_home, left_home))\n",
    "print(pos_percentages)"
   ]
  },
  {
   "cell_type": "code",
   "execution_count": 129,
   "metadata": {},
   "outputs": [],
   "source": [
    "def map_percentages_to_pixels(percentages):\n",
    "    top_start, top_end = 2850, 1650\n",
    "    left_start, left_end = 300, 1700\n",
    "    mapped_positions = []\n",
    "    for percentage in percentages:\n",
    "        top = int(top_start + (top_end - top_start) * float(percentage[0].strip('%')) / 100)\n",
    "        left = int(left_start + (left_end - left_start) * float(percentage[1].strip('%')) / 100)\n",
    "        mapped_positions.append((top, left))\n",
    "    return mapped_positions"
   ]
  },
  {
   "cell_type": "code",
   "execution_count": 130,
   "metadata": {},
   "outputs": [
    {
     "data": {
      "text/plain": [
       "[(1890, 860),\n",
       " (2094, 692),\n",
       " (2094, 1035),\n",
       " (2118, 405),\n",
       " (2118, 1322),\n",
       " (2382, 860),\n",
       " (2514, 1042),\n",
       " (2514, 678),\n",
       " (2730, 510),\n",
       " (2814, 860),\n",
       " (2730, 1210)]"
      ]
     },
     "execution_count": 130,
     "metadata": {},
     "output_type": "execute_result"
    }
   ],
   "source": [
    "map_percentages_to_pixels(pos_percentages)"
   ]
  },
  {
   "cell_type": "code",
   "execution_count": 142,
   "metadata": {},
   "outputs": [],
   "source": [
    "scaled_list = []\n",
    "for tup in pos_percentages:\n",
    "    x = float(tup[0].replace(\"%\", \"\")) / 100.0\n",
    "    y = float(tup[1].replace(\"%\", \"\")) / 100.0\n",
    "    scaled_x = x / 0.8\n",
    "    scaled_y = y / 0.8\n",
    "    scaled_list.append((scaled_x, scaled_y))"
   ]
  },
  {
   "cell_type": "code",
   "execution_count": 143,
   "metadata": {},
   "outputs": [
    {
     "data": {
      "text/plain": [
       "[(1.0, 0.5),\n",
       " (0.7875, 0.35000000000000003),\n",
       " (0.7875, 0.65625),\n",
       " (0.7625, 0.09374999999999999),\n",
       " (0.7625, 0.9125),\n",
       " (0.4875, 0.5),\n",
       " (0.35000000000000003, 0.6625),\n",
       " (0.35000000000000003, 0.3375),\n",
       " (0.125, 0.18749999999999997),\n",
       " (0.0375, 0.5),\n",
       " (0.125, 0.8125)]"
      ]
     },
     "execution_count": 143,
     "metadata": {},
     "output_type": "execute_result"
    }
   ],
   "source": [
    "scaled_list"
   ]
  },
  {
   "cell_type": "code",
   "execution_count": 144,
   "metadata": {},
   "outputs": [
    {
     "data": {
      "text/plain": [
       "[(1650, 1000),\n",
       " (1905, 790),\n",
       " (1905, 1218),\n",
       " (1935, 431),\n",
       " (1935, 1577),\n",
       " (2265, 1000),\n",
       " (2430, 1227),\n",
       " (2430, 772),\n",
       " (2700, 562),\n",
       " (2805, 1000),\n",
       " (2700, 1437)]"
      ]
     },
     "execution_count": 144,
     "metadata": {},
     "output_type": "execute_result"
    }
   ],
   "source": [
    "last_test = map_clean_percentages_to_pixels(scaled_list)\n",
    "last_test"
   ]
  },
  {
   "cell_type": "code",
   "execution_count": 137,
   "metadata": {},
   "outputs": [],
   "source": [
    "def map_clean_percentages_to_pixels(percentages):\n",
    "    top_start, top_end = 2850, 1650\n",
    "    left_start, left_end = 300, 1700\n",
    "    mapped_positions = []\n",
    "    for percentage in percentages:\n",
    "        top = int(top_start + (top_end - top_start) * float(percentage[0]))\n",
    "        left = int(left_start + (left_end - left_start) * float(percentage[1]))\n",
    "        mapped_positions.append((top, left))\n",
    "    return mapped_positions"
   ]
  },
  {
   "cell_type": "code",
   "execution_count": 141,
   "metadata": {},
   "outputs": [
    {
     "data": {
      "text/plain": [
       "[(1.0, 1.0),\n",
       " (0.7875, 0.7000000000000001),\n",
       " (0.7875, 1.3125),\n",
       " (0.7625, 0.18749999999999997),\n",
       " (0.7625, 1.825),\n",
       " (0.4875, 1.0),\n",
       " (0.35000000000000003, 1.325),\n",
       " (0.35000000000000003, 0.675),\n",
       " (0.125, 0.37499999999999994),\n",
       " (0.0375, 1.0),\n",
       " (0.125, 1.625)]"
      ]
     },
     "execution_count": 141,
     "metadata": {},
     "output_type": "execute_result"
    }
   ],
   "source": [
    "scaled_list"
   ]
  },
  {
   "cell_type": "code",
   "execution_count": null,
   "metadata": {},
   "outputs": [],
   "source": []
  }
 ],
 "metadata": {
  "kernelspec": {
   "display_name": "base",
   "language": "python",
   "name": "python3"
  },
  "language_info": {
   "codemirror_mode": {
    "name": "ipython",
    "version": 3
   },
   "file_extension": ".py",
   "mimetype": "text/x-python",
   "name": "python",
   "nbconvert_exporter": "python",
   "pygments_lexer": "ipython3",
   "version": "3.10.9"
  },
  "orig_nbformat": 4
 },
 "nbformat": 4,
 "nbformat_minor": 2
}
